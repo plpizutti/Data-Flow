{
 "cells": [
  {
   "cell_type": "code",
   "execution_count": null,
   "id": "d615637f",
   "metadata": {},
   "outputs": [],
   "source": [
    "from datetime import datetime\n",
    "from airflow import DAG\n",
    "from airflow.operators.python_operator import PythonOperator\n",
    "from tasks.#directory.airflow_import_task import import_client_data\n",
    "from airflow.utils.dates import days_ago\n",
    "\n",
    "\n",
    "\n",
    "with DAG(dag_id=\"airflow_import_dag\", start_date=days_ago(1), schedule_interval='@daily', catchup=False) as dag:\n",
    "    importar_task = PythonOperator(\n",
    "    task_id=f\"airflow_import_task\", \n",
    "    python_callable=import_client_data,\n",
    "    task_concurrency=1)\n"
   ]
  }
 ],
 "metadata": {
  "kernelspec": {
   "display_name": "Python 3",
   "language": "python",
   "name": "python3"
  },
  "language_info": {
   "codemirror_mode": {
    "name": "ipython",
    "version": 3
   },
   "file_extension": ".py",
   "mimetype": "text/x-python",
   "name": "python",
   "nbconvert_exporter": "python",
   "pygments_lexer": "ipython3",
   "version": "3.8.8"
  }
 },
 "nbformat": 4,
 "nbformat_minor": 5
}
