{
 "cells": [
  {
   "cell_type": "code",
   "execution_count": null,
   "metadata": {
    "colab": {
     "base_uri": "https://localhost:8080/"
    },
    "id": "v2sxMId-Lg5k",
    "outputId": "aa3a1ce0-b75b-47fe-deeb-f014ccbf20e9"
   },
   "outputs": [],
   "source": [
    "import io\n",
    "import pandas as pd \n",
    "\n",
    "df = pd.read_csv('arquivo_teste.txt', delimiter = \"\\t\", header=None)\n",
    "df = df[0].str.split(pat=';', n=1, expand=True)\n",
    "df[1] = df[1].str.split(pat=';').to_list()\n",
    "df = df.explode(1)\n",
    "df.rename(columns={0: 'cpf_cnpj', 1: 'numero'}, inplace=True)\n",
    "df = df.loc[df['numero'].str.len()>0]\n",
    "df['id_origem'] = 5001\n",
    "df['ddd'] = df['numero'].str[0:2]\n",
    "df['numero'] = df['numero'].str[2:]\n",
    "df['id_resultado'] = 8\n",
    "\n",
    "nova_ordem = ['id_origem', 'id_resultado', 'ddd', 'numero', 'cpf_cnpj']\n",
    "df = df[nova_ordem]\n",
    "\n",
    "df_list = df.to_dict('records')\n",
    "\n",
    "for item in df_list:\n",
    "    print(item)\n"
   ]
  }
 ],
 "metadata": {
  "colab": {
   "name": "Importação Atlas",
   "provenance": []
  },
  "kernelspec": {
   "display_name": "Python 3",
   "language": "python",
   "name": "python3"
  },
  "language_info": {
   "codemirror_mode": {
    "name": "ipython",
    "version": 3
   },
   "file_extension": ".py",
   "mimetype": "text/x-python",
   "name": "python",
   "nbconvert_exporter": "python",
   "pygments_lexer": "ipython3",
   "version": "3.8.8"
  }
 },
 "nbformat": 4,
 "nbformat_minor": 1
}
